{
 "cells": [
  {
   "cell_type": "code",
   "execution_count": 0,
   "metadata": {
    "application/vnd.databricks.v1+cell": {
     "cellMetadata": {
      "byteLimit": 2048000,
      "rowLimit": 10000
     },
     "inputWidgets": {},
     "nuid": "e9fa6c70-fea3-49a7-acca-a03edf5f457e",
     "showTitle": true,
     "title": "Files location in dbfs"
    }
   },
   "outputs": [],
   "source": [
    "# /FileStore/tables/sales_csv-1.txt\n",
    "# /FileStore/tables/menu_csv.txt"
   ]
  },
  {
   "cell_type": "code",
   "execution_count": 0,
   "metadata": {
    "application/vnd.databricks.v1+cell": {
     "cellMetadata": {
      "byteLimit": 2048000,
      "rowLimit": 10000
     },
     "inputWidgets": {},
     "nuid": "3471f107-9c7e-4cdc-a05d-2c54e1c9ecd1",
     "showTitle": false,
     "title": ""
    }
   },
   "outputs": [],
   "source": [
    "from pyspark.sql.types import *\n",
    "from pyspark.sql.functions import *"
   ]
  },
  {
   "cell_type": "code",
   "execution_count": 0,
   "metadata": {
    "application/vnd.databricks.v1+cell": {
     "cellMetadata": {
      "byteLimit": 2048000,
      "rowLimit": 10000
     },
     "inputWidgets": {},
     "nuid": "0d8508e0-502d-41d7-bf25-b62f53c38d8a",
     "showTitle": false,
     "title": ""
    }
   },
   "outputs": [
    {
     "output_type": "stream",
     "name": "stdout",
     "output_type": "stream",
     "text": [
      "+----------+-----------+----------+--------+------------+\n|product_id|customer_id|order_date|location|source_order|\n+----------+-----------+----------+--------+------------+\n|         1|          A|2023-01-01|   India|      Swiggy|\n|         2|          A|2022-01-01|   India|      Swiggy|\n|         2|          A|2023-01-07|   India|      Swiggy|\n|         3|          A|2023-01-10|   India|  Restaurant|\n|         3|          A|2022-01-11|   India|      Swiggy|\n|         3|          A|2023-01-11|   India|  Restaurant|\n|         2|          B|2022-02-01|   India|      Swiggy|\n|         2|          B|2023-01-02|   India|      Swiggy|\n|         1|          B|2023-01-04|   India|  Restaurant|\n|         1|          B|2023-02-11|   India|      Swiggy|\n|         3|          B|2023-01-16|   India|      zomato|\n|         3|          B|2022-02-01|   India|      zomato|\n|         3|          C|2023-01-01|   India|      zomato|\n|         1|          C|2023-01-01|      UK|      Swiggy|\n|         6|          C|2022-01-07|      UK|      zomato|\n|         3|          D|2023-02-16|      UK|  Restaurant|\n|         5|          D|2022-02-01|      UK|      zomato|\n|         3|          E|2023-02-01|      UK|  Restaurant|\n|         4|          E|2023-02-01|      UK|      Swiggy|\n|         4|          E|2023-02-07|      UK|  Restaurant|\n+----------+-----------+----------+--------+------------+\nonly showing top 20 rows\n\n"
     ]
    }
   ],
   "source": [
    "schema = StructType(\n",
    "    [\n",
    "        StructField(\"product_id\", IntegerType(), True),\n",
    "        StructField(\"customer_id\", StringType(), True),\n",
    "        StructField(\"order_date\", DateType(), True),\n",
    "        StructField(\"location\", StringType(), True),\n",
    "        StructField(\"source_order\", StringType(), True),\n",
    "    ]\n",
    ")\n",
    "\n",
    "sales_df = (\n",
    "    spark.read.format(\"csv\")\n",
    "    .option(\"inferschema\", \"true\")\n",
    "    .schema(schema)\n",
    "    .load(\"/FileStore/tables/sales_csv-1.txt\")\n",
    ")\n",
    "\n",
    "sales_df.show()"
   ]
  },
  {
   "cell_type": "code",
   "execution_count": 0,
   "metadata": {
    "application/vnd.databricks.v1+cell": {
     "cellMetadata": {
      "byteLimit": 2048000,
      "rowLimit": 10000
     },
     "inputWidgets": {},
     "nuid": "9c635d35-06b2-4b21-a62e-5e3174b2fd3a",
     "showTitle": true,
     "title": "Adding year/month/quater"
    }
   },
   "outputs": [
    {
     "output_type": "stream",
     "name": "stdout",
     "output_type": "stream",
     "text": [
      "+----------+-----------+----------+--------+------------+----------+-----------+-------------+\n|product_id|customer_id|order_date|location|source_order|Order_Year|Order_month|Order_quarter|\n+----------+-----------+----------+--------+------------+----------+-----------+-------------+\n|         1|          A|2023-01-01|   India|      Swiggy|      2023|          1|            1|\n|         2|          A|2022-01-01|   India|      Swiggy|      2022|          1|            1|\n|         2|          A|2023-01-07|   India|      Swiggy|      2023|          1|            1|\n|         3|          A|2023-01-10|   India|  Restaurant|      2023|          1|            1|\n|         3|          A|2022-01-11|   India|      Swiggy|      2022|          1|            1|\n|         3|          A|2023-01-11|   India|  Restaurant|      2023|          1|            1|\n|         2|          B|2022-02-01|   India|      Swiggy|      2022|          2|            1|\n|         2|          B|2023-01-02|   India|      Swiggy|      2023|          1|            1|\n|         1|          B|2023-01-04|   India|  Restaurant|      2023|          1|            1|\n|         1|          B|2023-02-11|   India|      Swiggy|      2023|          2|            1|\n|         3|          B|2023-01-16|   India|      zomato|      2023|          1|            1|\n|         3|          B|2022-02-01|   India|      zomato|      2022|          2|            1|\n|         3|          C|2023-01-01|   India|      zomato|      2023|          1|            1|\n|         1|          C|2023-01-01|      UK|      Swiggy|      2023|          1|            1|\n|         6|          C|2022-01-07|      UK|      zomato|      2022|          1|            1|\n|         3|          D|2023-02-16|      UK|  Restaurant|      2023|          2|            1|\n|         5|          D|2022-02-01|      UK|      zomato|      2022|          2|            1|\n|         3|          E|2023-02-01|      UK|  Restaurant|      2023|          2|            1|\n|         4|          E|2023-02-01|      UK|      Swiggy|      2023|          2|            1|\n|         4|          E|2023-02-07|      UK|  Restaurant|      2023|          2|            1|\n+----------+-----------+----------+--------+------------+----------+-----------+-------------+\nonly showing top 20 rows\n\n"
     ]
    }
   ],
   "source": [
    "sales_df = sales_df.withColumn(\"Order_Year\",year(sales_df.order_date)).withColumn(\"Order_month\",month(sales_df.order_date)).withColumn(\"Order_quarter\",quarter(sales_df.order_date))\n",
    "\n",
    "sales_df.show()"
   ]
  },
  {
   "cell_type": "code",
   "execution_count": 0,
   "metadata": {
    "application/vnd.databricks.v1+cell": {
     "cellMetadata": {
      "byteLimit": 2048000,
      "rowLimit": 10000
     },
     "inputWidgets": {},
     "nuid": "5b43dc71-4364-4407-89b3-e8095b59177e",
     "showTitle": true,
     "title": "Menu Data"
    }
   },
   "outputs": [
    {
     "output_type": "stream",
     "name": "stdout",
     "output_type": "stream",
     "text": [
      "+----------+------------+-----+\n|product_id|product_name|price|\n+----------+------------+-----+\n|         1|       PIZZA|  100|\n|         2|     Chowmin|  150|\n|         3|    sandwich|  120|\n|         4|        Dosa|  110|\n|         5|     Biryani|   80|\n|         6|       Pasta|  180|\n+----------+------------+-----+\n\n"
     ]
    }
   ],
   "source": [
    "menu_schema = StructType([\n",
    "    StructField(\"product_id\",IntegerType(),True),StructField(\"product_name\",StringType()\n",
    "    ,True),StructField(\"price\",StringType(),True),\n",
    "])\n",
    "\n",
    "menu_df = spark.read.format(\"csv\").option(\"inferschema\",\"true\").schema(menu_schema).load(\"/FileStore/tables/menu_csv.txt\")\n",
    "\n",
    "menu_df.show()"
   ]
  },
  {
   "cell_type": "code",
   "execution_count": 0,
   "metadata": {
    "application/vnd.databricks.v1+cell": {
     "cellMetadata": {
      "byteLimit": 2048000,
      "rowLimit": 10000
     },
     "inputWidgets": {},
     "nuid": "f29ad3e3-99c6-4b06-a9d1-737d0de025a6",
     "showTitle": true,
     "title": "Total amount spend by each customer"
    }
   },
   "outputs": [
    {
     "output_type": "stream",
     "name": "stdout",
     "output_type": "stream",
     "text": [
      "+-----------+----------+\n|customer_id|sum(price)|\n+-----------+----------+\n|          A|    4260.0|\n|          B|    4440.0|\n|          C|    2400.0|\n|          D|    1200.0|\n|          E|    2040.0|\n+-----------+----------+\n\n"
     ]
    }
   ],
   "source": [
    "total_amount_spend = sales_df.join(menu_df,'product_id').groupBy('customer_id').agg({'price':'sum'}).orderBy('customer_id')\n",
    "total_amount_spend.show()"
   ]
  },
  {
   "cell_type": "code",
   "execution_count": 0,
   "metadata": {
    "application/vnd.databricks.v1+cell": {
     "cellMetadata": {},
     "inputWidgets": {},
     "nuid": "19357229-fd5c-4253-8e67-57dce19e1d80",
     "showTitle": false,
     "title": ""
    }
   },
   "outputs": [
    {
     "output_type": "stream",
     "name": "stdout",
     "output_type": "stream",
     "text": [
      "+-----------+----------+\n|customer_id|sum(price)|\n+-----------+----------+\n|          A|    4260.0|\n|          B|    4440.0|\n|          C|    2400.0|\n|          D|    1200.0|\n|          E|    2040.0|\n+-----------+----------+\n\n"
     ]
    }
   ],
   "source": [
    "total_amount_spend.show()"
   ]
  },
  {
   "cell_type": "code",
   "execution_count": 0,
   "metadata": {
    "application/vnd.databricks.v1+cell": {
     "cellMetadata": {
      "byteLimit": 2048000,
      "rowLimit": 10000
     },
     "inputWidgets": {},
     "nuid": "af605d07-c0ae-434c-9b22-d6fe400303ac",
     "showTitle": true,
     "title": "Total amount spend by each category"
    }
   },
   "outputs": [
    {
     "output_type": "stream",
     "name": "stdout",
     "output_type": "stream",
     "text": [
      "+------------+----------+\n|product_name|sum(price)|\n+------------+----------+\n|     Biryani|     480.0|\n|     Chowmin|    3600.0|\n|        Dosa|    1320.0|\n|       PIZZA|    2100.0|\n|       Pasta|    1080.0|\n|    sandwich|    5760.0|\n+------------+----------+\n\n"
     ]
    }
   ],
   "source": [
    "total_amount_spend_category = sales_df.join(menu_df,'product_id').groupBy('product_name').agg({'price':'sum'}).orderBy('product_name')\n",
    "total_amount_spend_category.show()"
   ]
  },
  {
   "cell_type": "code",
   "execution_count": 0,
   "metadata": {
    "application/vnd.databricks.v1+cell": {
     "cellMetadata": {
      "byteLimit": 2048000,
      "rowLimit": 10000
     },
     "inputWidgets": {},
     "nuid": "05b40749-aeda-4dbc-bc39-8dc44dcd9428",
     "showTitle": true,
     "title": "Total amount of sales in each month "
    }
   },
   "outputs": [
    {
     "output_type": "stream",
     "name": "stdout",
     "output_type": "stream",
     "text": [
      "+----------+-----------+----------+\n|order_year|order_month|sum(price)|\n+----------+-----------+----------+\n|      2022|          1|     720.0|\n|      2022|          2|    1050.0|\n|      2022|          3|     380.0|\n|      2022|          5|     720.0|\n|      2022|          6|     720.0|\n|      2022|          7|     380.0|\n|      2022|         11|     380.0|\n|      2023|          1|    2240.0|\n|      2023|          2|    1680.0|\n|      2023|          3|     530.0|\n|      2023|          5|    2240.0|\n|      2023|          6|    2240.0|\n|      2023|          7|     530.0|\n|      2023|         11|     530.0|\n+----------+-----------+----------+\n\n"
     ]
    }
   ],
   "source": [
    "total_amt_sales_mtd = sales_df.join(menu_df,'product_id').groupBy('order_year','order_month').agg({'price':'sum'}).alias('price').orderBy('order_year','order_month')\n",
    "\n",
    "total_amt_sales_mtd.show()"
   ]
  },
  {
   "cell_type": "code",
   "execution_count": 0,
   "metadata": {
    "application/vnd.databricks.v1+cell": {
     "cellMetadata": {
      "byteLimit": 2048000,
      "rowLimit": 10000
     },
     "inputWidgets": {},
     "nuid": "6f9b7622-3da1-4427-abe6-b726bcd5f1bb",
     "showTitle": true,
     "title": "sales by quarter"
    }
   },
   "outputs": [
    {
     "output_type": "stream",
     "name": "stdout",
     "output_type": "stream",
     "text": [
      "+-------------+----------+\n|order_quarter|sum(price)|\n+-------------+----------+\n|            1|    6600.0|\n|            2|    5920.0|\n|            3|     910.0|\n|            4|     910.0|\n+-------------+----------+\n\n"
     ]
    }
   ],
   "source": [
    "total_ytd_sales = sales_df.join(menu_df,'product_id').groupBy('order_quarter').agg({'price':'sum'}).orderBy('order_quarter')\n",
    "total_ytd_sales.show()"
   ]
  },
  {
   "cell_type": "code",
   "execution_count": 0,
   "metadata": {
    "application/vnd.databricks.v1+cell": {
     "cellMetadata": {
      "byteLimit": 2048000,
      "rowLimit": 10000
     },
     "inputWidgets": {},
     "nuid": "898c5b7c-4f00-4da9-86b0-c8a84286438c",
     "showTitle": true,
     "title": "how many times each product is purchased"
    }
   },
   "outputs": [
    {
     "output_type": "stream",
     "name": "stdout",
     "output_type": "stream",
     "text": [
      "+----------+------------+-------------+\n|product_id|product_name|product_count|\n+----------+------------+-------------+\n|         3|    sandwich|           48|\n|         2|     Chowmin|           24|\n|         1|       PIZZA|           21|\n|         4|        Dosa|           12|\n|         5|     Biryani|            6|\n|         6|       Pasta|            6|\n+----------+------------+-------------+\n\n"
     ]
    }
   ],
   "source": [
    "times_product_purchased = sales_df.join(menu_df,'product_id').groupBy('product_id','product_name').agg(count('product_id').alias('product_count')).orderBy('product_count',ascending=0)\n",
    "times_product_purchased.show()"
   ]
  },
  {
   "cell_type": "code",
   "execution_count": 0,
   "metadata": {
    "application/vnd.databricks.v1+cell": {
     "cellMetadata": {
      "byteLimit": 2048000,
      "rowLimit": 10000
     },
     "inputWidgets": {},
     "nuid": "603d621f-804b-4bdc-9268-d7122bd28d85",
     "showTitle": true,
     "title": "frequency of customer visited"
    }
   },
   "outputs": [
    {
     "output_type": "stream",
     "name": "stdout",
     "output_type": "stream",
     "text": [
      "+------------+\n|source_order|\n+------------+\n|      zomato|\n|      Swiggy|\n|  Restaurant|\n+------------+\n\n+-----------+-----------------+\n|customer_id|count(order_date)|\n+-----------+-----------------+\n|          E|                6|\n|          B|                6|\n|          D|                3|\n|          C|                3|\n|          A|                9|\n+-----------+-----------------+\n\n"
     ]
    }
   ],
   "source": [
    "sales_df.select(sales_df.source_order).distinct().show()\n",
    "\n",
    "frequency_of_customer_visited = sales_df.filter(sales_df.source_order=='Restaurant').groupBy('customer_id').agg({'order_date':'count'})\n",
    "\n",
    "\n",
    "\n",
    "frequency_of_customer_visited.show()"
   ]
  },
  {
   "cell_type": "code",
   "execution_count": 0,
   "metadata": {
    "application/vnd.databricks.v1+cell": {
     "cellMetadata": {
      "byteLimit": 2048000,
      "rowLimit": 10000
     },
     "inputWidgets": {},
     "nuid": "ea99c606-09f9-44a1-869b-d8e9aa633e07",
     "showTitle": true,
     "title": "total sales by each country"
    }
   },
   "outputs": [
    {
     "output_type": "stream",
     "name": "stdout",
     "output_type": "stream",
     "text": [
      "+--------+----------+\n|location|sum(price)|\n+--------+----------+\n|   India|    4860.0|\n|     USA|    2460.0|\n|      UK|    7020.0|\n+--------+----------+\n\n"
     ]
    }
   ],
   "source": [
    "total_sales_country = sales_df.join(menu_df,'product_id').groupBy('location').agg({'price':'sum'})\n",
    "total_sales_country.show()"
   ]
  },
  {
   "cell_type": "code",
   "execution_count": 0,
   "metadata": {
    "application/vnd.databricks.v1+cell": {
     "cellMetadata": {
      "byteLimit": 2048000,
      "rowLimit": 10000
     },
     "inputWidgets": {},
     "nuid": "5624b65a-d3ae-48e5-8a15-58a1403dd3c5",
     "showTitle": true,
     "title": "total sales by order_source"
    }
   },
   "outputs": [
    {
     "output_type": "stream",
     "name": "stdout",
     "output_type": "stream",
     "text": [
      "+------------+------+\n|source_order| sales|\n+------------+------+\n|      zomato|4920.0|\n|      Swiggy|6330.0|\n|  Restaurant|3090.0|\n+------------+------+\n\n"
     ]
    }
   ],
   "source": [
    "total_sales_order_source = sales_df.join(menu_df,'product_id').groupBy('source_order').agg(sum('price').alias('sales'))\n",
    "total_sales_order_source.show()"
   ]
  },
  {
   "cell_type": "code",
   "execution_count": 0,
   "metadata": {
    "application/vnd.databricks.v1+cell": {
     "cellMetadata": {},
     "inputWidgets": {},
     "nuid": "25479184-acdc-4a5d-85ea-a5c5d9e71d43",
     "showTitle": false,
     "title": ""
    }
   },
   "outputs": [],
   "source": []
  },
  {
   "cell_type": "code",
   "execution_count": 0,
   "metadata": {
    "application/vnd.databricks.v1+cell": {
     "cellMetadata": {},
     "inputWidgets": {},
     "nuid": "dafa9cf0-062a-4c6a-9a16-5c6d0c20b25c",
     "showTitle": false,
     "title": ""
    }
   },
   "outputs": [],
   "source": []
  },
  {
   "cell_type": "code",
   "execution_count": 0,
   "metadata": {
    "application/vnd.databricks.v1+cell": {
     "cellMetadata": {
      "byteLimit": 2048000,
      "rowLimit": 10000
     },
     "inputWidgets": {},
     "nuid": "c9db001b-0edf-4012-8dad-022f0275f9ab",
     "showTitle": false,
     "title": ""
    }
   },
   "outputs": [],
   "source": []
  },
  {
   "cell_type": "code",
   "execution_count": 0,
   "metadata": {
    "application/vnd.databricks.v1+cell": {
     "cellMetadata": {
      "byteLimit": 2048000,
      "rowLimit": 10000
     },
     "inputWidgets": {},
     "nuid": "5a8bd1f9-75d6-45ba-9b98-dba6b9c6c833",
     "showTitle": false,
     "title": ""
    }
   },
   "outputs": [],
   "source": []
  },
  {
   "cell_type": "code",
   "execution_count": 0,
   "metadata": {
    "application/vnd.databricks.v1+cell": {
     "cellMetadata": {
      "byteLimit": 2048000,
      "rowLimit": 10000
     },
     "inputWidgets": {},
     "nuid": "7f30767f-f718-4c67-b30c-63f689c244e1",
     "showTitle": false,
     "title": ""
    }
   },
   "outputs": [],
   "source": []
  },
  {
   "cell_type": "code",
   "execution_count": 0,
   "metadata": {
    "application/vnd.databricks.v1+cell": {
     "cellMetadata": {
      "byteLimit": 2048000,
      "rowLimit": 10000
     },
     "inputWidgets": {},
     "nuid": "bc355f7c-4d4b-4006-90cb-c5a3c38b6fc6",
     "showTitle": false,
     "title": ""
    }
   },
   "outputs": [],
   "source": []
  },
  {
   "cell_type": "code",
   "execution_count": 0,
   "metadata": {
    "application/vnd.databricks.v1+cell": {
     "cellMetadata": {
      "byteLimit": 2048000,
      "rowLimit": 10000
     },
     "inputWidgets": {},
     "nuid": "0302ee85-a964-49b6-9014-de9cc838e29f",
     "showTitle": false,
     "title": ""
    }
   },
   "outputs": [],
   "source": []
  },
  {
   "cell_type": "code",
   "execution_count": 0,
   "metadata": {
    "application/vnd.databricks.v1+cell": {
     "cellMetadata": {
      "byteLimit": 2048000,
      "rowLimit": 10000
     },
     "inputWidgets": {},
     "nuid": "a3ed41a3-c6c7-482d-965d-42feb30ce8b3",
     "showTitle": false,
     "title": ""
    }
   },
   "outputs": [],
   "source": []
  },
  {
   "cell_type": "code",
   "execution_count": 0,
   "metadata": {
    "application/vnd.databricks.v1+cell": {
     "cellMetadata": {
      "byteLimit": 2048000,
      "rowLimit": 10000
     },
     "inputWidgets": {},
     "nuid": "7d7a5a00-e455-4419-bec5-8c8482ad7f37",
     "showTitle": false,
     "title": ""
    }
   },
   "outputs": [],
   "source": []
  },
  {
   "cell_type": "code",
   "execution_count": 0,
   "metadata": {
    "application/vnd.databricks.v1+cell": {
     "cellMetadata": {
      "byteLimit": 2048000,
      "rowLimit": 10000
     },
     "inputWidgets": {},
     "nuid": "ada0f416-9e41-4d7d-8c65-0132c417f24a",
     "showTitle": false,
     "title": ""
    }
   },
   "outputs": [],
   "source": []
  },
  {
   "cell_type": "code",
   "execution_count": 0,
   "metadata": {
    "application/vnd.databricks.v1+cell": {
     "cellMetadata": {
      "byteLimit": 2048000,
      "rowLimit": 10000
     },
     "inputWidgets": {},
     "nuid": "f35e4467-de7e-40b9-b455-73a524c893fc",
     "showTitle": false,
     "title": ""
    }
   },
   "outputs": [],
   "source": []
  },
  {
   "cell_type": "code",
   "execution_count": 0,
   "metadata": {
    "application/vnd.databricks.v1+cell": {
     "cellMetadata": {
      "byteLimit": 2048000,
      "rowLimit": 10000
     },
     "inputWidgets": {},
     "nuid": "d7765010-7a5a-495d-a62d-4e18fd6053c9",
     "showTitle": false,
     "title": ""
    }
   },
   "outputs": [],
   "source": []
  },
  {
   "cell_type": "code",
   "execution_count": 0,
   "metadata": {
    "application/vnd.databricks.v1+cell": {
     "cellMetadata": {
      "byteLimit": 2048000,
      "rowLimit": 10000
     },
     "inputWidgets": {},
     "nuid": "bfdf88ac-5405-4e35-a7cb-39f048cfb286",
     "showTitle": false,
     "title": ""
    }
   },
   "outputs": [],
   "source": []
  }
 ],
 "metadata": {
  "application/vnd.databricks.v1+notebook": {
   "dashboards": [
    {
     "elements": [
      {
       "dashboardResultIndex": null,
       "elementNUID": "19357229-fd5c-4253-8e67-57dce19e1d80",
       "elementType": "command",
       "guid": "2fd134ad-6bc8-4006-baa5-103c7284a4e9",
       "options": null,
       "position": {
        "height": 8,
        "width": 19,
        "x": 0,
        "y": 0,
        "z": null
       },
       "resultIndex": null
      }
     ],
     "globalVars": {},
     "guid": "",
     "layoutOption": {
      "grid": true,
      "stack": true
     },
     "nuid": "5442006f-5ebe-4c33-9ee3-852caa65bdce",
     "origId": 2381574624337683,
     "title": "Sales_analysis",
     "version": "DashboardViewV1",
     "width": 1024
    }
   ],
   "language": "python",
   "notebookMetadata": {
    "pythonIndentUnit": 4
   },
   "notebookName": "Sales Analysis",
   "widgets": {}
  }
 },
 "nbformat": 4,
 "nbformat_minor": 0
}
